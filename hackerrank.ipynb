{
 "cells": [
  {
   "cell_type": "markdown",
   "source": [
    "## [Sales by Match](https://www.hackerrank.com/challenges/sock-merchant/problem?h_l=interview&playlist_slugs%5B%5D=interview-preparation-kit&playlist_slugs%5B%5D=warmup)\n"
   ],
   "metadata": {}
  },
  {
   "cell_type": "code",
   "execution_count": 2,
   "source": [
    "#=\n",
    "There is a large pile of socks that must be paired by color. Given an array of integers representing the color of each sock, \n",
    "determine how many pairs of socks with matching colors there are.\n",
    "\n",
    "Solution:\n",
    "Use a hashmap or array to count how many of each sock color there are.  U can then count complete pairs of each color by \n",
    "going through the sock color counts and //2 (dividing by 2 roiundng down).\n",
    "\n",
    "Do this for all counts to get the total # of pairs u have.\n",
    "\n",
    "Examples:\n",
    "[1,2,3,5,7,5,3,23,4,56,64,2,5,6,5,3,2,2,4,55,3]\n",
    "{\n",
    "    1:  1 => 0\n",
    "    2:  4 => 2\n",
    "    3:  4 => 2\n",
    "    5:  4 => 2\n",
    "    7:  ....\n",
    "    5:\n",
    "    4:\n",
    "    ....\n",
    "}\n",
    "\n",
    "[1,2,3,5,7,5]\n",
    "{\n",
    "    1:  1 => 0\n",
    "    2:  1 => 0\n",
    "    3:  1 => 0\n",
    "    5:  2 => 1\n",
    "    7:  1 => 0\n",
    "}\n",
    "1 pair\n",
    "\n",
    "Complexity:\n",
    "Time:   O(N)\n",
    "Space:  O(N)\n",
    "=#"
   ],
   "outputs": [],
   "metadata": {}
  },
  {
   "cell_type": "code",
   "execution_count": 80,
   "source": [
    "d = Dict()\n",
    "d[1] = 5\n",
    "sum(d.vals)"
   ],
   "outputs": [
    {
     "output_type": "error",
     "ename": "UndefRefError",
     "evalue": "\u001b[91mUndefRefError: access to undefined reference\u001b[39m",
     "traceback": [
      "\u001b[91mUndefRefError: access to undefined reference\u001b[39m",
      "",
      "Stacktrace:",
      " [1] getindex at ./array.jl:788 [inlined]",
      " [2] mapreduce_impl(::typeof(identity), ::typeof(Base.add_sum), ::Array{Any,1}, ::Int64, ::Int64, ::Int64) at ./reduce.jl:236",
      " [3] mapreduce_impl at ./reduce.jl:253 [inlined]",
      " [4] _mapreduce(::typeof(identity), ::typeof(Base.add_sum), ::IndexLinear, ::Array{Any,1}) at ./reduce.jl:407",
      " [5] _mapreduce_dim at ./reducedim.jl:312 [inlined]",
      " [6] #mapreduce#580 at ./reducedim.jl:307 [inlined]",
      " [7] mapreduce at ./reducedim.jl:307 [inlined]",
      " [8] _sum at ./reducedim.jl:657 [inlined]",
      " [9] _sum at ./reducedim.jl:656 [inlined]",
      " [10] #sum#583 at ./reducedim.jl:652 [inlined]",
      " [11] sum(::Array{Any,1}) at ./reducedim.jl:652",
      " [12] top-level scope at In[80]:3"
     ]
    }
   ],
   "metadata": {}
  },
  {
   "cell_type": "code",
   "execution_count": 82,
   "source": [
    "function sockMerchant(n, ar)\n",
    "    scnt = Dict()\n",
    "    for s in ar\n",
    "        scnt[s] = get(scnt,s,0) + 1\n",
    "    end \n",
    "    paircnt = 0\n",
    "    for (_,cnt) in scnt paircnt += floor(Int,cnt/2) end\n",
    "    return paircnt \n",
    "end\n",
    "sockMerchant(nothing,[1,2,3,5,7,5])"
   ],
   "outputs": [
    {
     "output_type": "execute_result",
     "data": {
      "text/plain": [
       "1"
      ]
     },
     "metadata": {},
     "execution_count": 82
    }
   ],
   "metadata": {}
  }
 ],
 "metadata": {
  "orig_nbformat": 4,
  "language_info": {
   "name": "julia",
   "version": "3.8.11",
   "mimetype": "text/x-python",
   "codemirror_mode": {
    "name": "ipython",
    "version": 3
   },
   "pygments_lexer": "ipython3",
   "nbconvert_exporter": "python",
   "file_extension": ".py"
  },
  "kernelspec": {
   "name": "julia-1.4",
   "display_name": "Julia 1.4.1",
   "language": "julia"
  },
  "interpreter": {
   "hash": "cd9b86aa17ecbcd2a83a2e8f60283f2c0716a067dcd208f369185c0b3d8a6a4b"
  }
 },
 "nbformat": 4,
 "nbformat_minor": 2
}