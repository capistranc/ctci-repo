{
 "cells": [
  {
   "cell_type": "markdown",
   "source": [
    "# 2021-09 Codechef"
   ],
   "metadata": {}
  },
  {
   "cell_type": "code",
   "execution_count": null,
   "source": [
    "\"\"\"\n",
    "https://www.codechef.com/COOK133C/problems/TYRES\n",
    "\"\"\"\n",
    "# cook your dish here\n",
    "import sys\n",
    "L = sys.stdin.read().split(\"\\n\")\n",
    "for N in L[1:]:\n",
    "    if N:\n",
    "        N = int(N)\n",
    "        print(\"NO\" if N%4 == 0 else \"YES\",file=sys.stdout)"
   ],
   "outputs": [],
   "metadata": {}
  },
  {
   "cell_type": "code",
   "execution_count": 4,
   "source": [
    "\"\"\"\n",
    "https://www.codechef.com/COOK133C/problems/FAKEGCD\n",
    "\"\"\"\n",
    "import io,sys\n",
    "case1 = \"\"\"\n",
    "1\n",
    "4\n",
    "\"\"\"\n",
    "sys.stdin = io.StringIO(case1)\n",
    "\n",
    "import sys\n",
    "L = sys.stdin.read().split(\"\\n\")\n",
    "N = [int(l) for l in L[1:] if l]\n",
    "for n in N:\n",
    "    A = [str(a) for a in reversed(range(1,n+1))]\n",
    "    print(\" \".join(A), file=sys.stdout)"
   ],
   "outputs": [
    {
     "output_type": "stream",
     "name": "stdout",
     "text": [
      "1\n",
      "4 3 2 1\n"
     ]
    }
   ],
   "metadata": {}
  },
  {
   "cell_type": "code",
   "execution_count": 17,
   "source": [
    "\"\"\"\n",
    "https://www.codechef.com/COOK133C/problems/ADJHATE\n",
    "\n",
    "Examples:\n",
    "3   7   10  1   2   12\n",
    "4   3   9   1   10      => 27 - already lovely\n",
    "\n",
    "Solution:\n",
    "OK - if u swap an integer does the absolute val of differences actually change?\n",
    "\n",
    "OK it depends\n",
    "3   7   10  1   2   12 \n",
    "4   3   9   1   10      => 27 - already lovely\n",
    "swap middle 10 and 7 \n",
    "3   10  7   1   2   12 \n",
    "7   3   6   1   10      => 27\n",
    "swap 3 with 10\n",
    "10  7   3   1   2   12 \n",
    "3   4   2   1   10      => 20\n",
    "\n",
    "swap emd 12 and 3 \n",
    "12  10  7   1   2   3 \n",
    "7   3   6   1   10      => 27\n",
    "\n",
    "\n",
    "Basically I think swapping middle integers w/ eachother does not modify total difference sum\n",
    "only possible swapping end ints w/ middle\n",
    "\n",
    "wait thats not true\n",
    "\n",
    "e.g. 9,1,8,2,7,3 => 1,2,3,7,8,9\n",
    "\n",
    "Maybe u can split ints into even and odd groups?\n",
    "|odd - even|    = odd\n",
    "|even - even|   = even\n",
    "|odd - odd|     = even\n",
    "\n",
    "if all #s are even, impossible to have lovely diff sum\n",
    "\n",
    "if all #s are odd, impossile to have an odd diff sum\n",
    "\n",
    "if we have at least 1 pair of even and odd may be lovley \n",
    "[o,o,e,e]\n",
    "\n",
    "oh - basically if u have any # of evens and odds it will always be possibel ot make lovely\n",
    "\"\"\"\n",
    "\n",
    "import io,sys\n",
    "case1 = \\\n",
    "\"\"\"2\n",
    "6\n",
    "3 7 10 1 2 12\n",
    "2\n",
    "1 3\n",
    "\"\"\"\n",
    "sys.stdin = io.StringIO(case1)\n",
    "\n",
    "import sys\n",
    "L = sys.stdin.read().split(\"\\n\")\n",
    "M = [[int(ai) for ai in l.split()] for l in L[2::2]]\n",
    "for A in M:\n",
    "    odd     = [ai for ai in A if ai%2 == 1]\n",
    "    even    = [ai for ai in A if ai%2 == 0]\n",
    "    if odd and even:\n",
    "        print(\" \".join([str(n) for n in [*odd,*even]]),file=sys.stdout)\n",
    "    else:\n",
    "        print(-1,file=sys.stdout)\n"
   ],
   "outputs": [
    {
     "output_type": "stream",
     "name": "stdout",
     "text": [
      "3 7 1 10 2 12\n",
      "-1\n"
     ]
    }
   ],
   "metadata": {}
  },
  {
   "cell_type": "code",
   "execution_count": 12,
   "source": [
    "\"\"\"\n",
    "https://www.codechef.com/COOK133C/problems/ZEBRA\n",
    "\n",
    "Examples:\n",
    "3\n",
    "6 2\n",
    "100101\n",
    "5 1\n",
    "10111\n",
    "6 1\n",
    "000000\n",
    "\n",
    "Solution:\n",
    "2 approaches:\n",
    "1. dp\n",
    "2. memoized dfs\n",
    "\n",
    "think memomized dfs will be faster b/c u can jump over large stretches of ground quickly\n",
    "if u explore jumps from farthest to nearest\n",
    "\"\"\"\n",
    "\n",
    "import io,sys\n",
    "case1 = \"\"\"\n",
    "3\n",
    "6 2\n",
    "100101\n",
    "5 1\n",
    "10111\n",
    "6 1\n",
    "000000\n",
    "\"\"\"\n",
    "sys.stdin = io.StringIO(case1)\n",
    "\n",
    "import sys\n",
    "import functools\n",
    "import itertools\n",
    "L = sys.stdin.read().strip().split(\"\\n\")\n",
    "T = int(L[0])\n",
    "for t in range(T):\n",
    "    N,K = [int(i) for i in L[1+2*t].split()]\n",
    "    S = L[1+2*t+1]\n",
    "    @functools.lru_cache(None)\n",
    "    def dfs(i,k):\n",
    "        if i >= N or k < 0: return -1\n",
    "        if k == 0: return i+1\n",
    "        for j in reversed(range(i+1,N)):\n",
    "            if S[i] != S[j]:\n",
    "                r = dfs(j,k-1)\n",
    "                # greedily return first hop s.t. exactly k-1 hops are possible\n",
    "                if r > 0: return r\n",
    "        return -1\n",
    "    print(dfs(0,K),file=sys.stdout)"
   ],
   "outputs": [
    {
     "output_type": "stream",
     "name": "stdout",
     "text": [
      "6\n",
      "2\n",
      "-1\n"
     ]
    }
   ],
   "metadata": {}
  },
  {
   "cell_type": "code",
   "execution_count": null,
   "source": [
    "\"\"\"\n",
    "https://www.codechef.com/COOK133C/problems/HFSEQ\n",
    "\n",
    "Solution:\n",
    "OK - just need to make sure ciel(N//2) 2-primes are present in array\n",
    "a 2-prime is double a prime\n",
    "\n",
    "oh wait no\n",
    "\n",
    "need to make a sieve where u count the # of even #s that \n",
    "are divisible at each index of sieve\n",
    "\n",
    "if any el of your sieve is == to sieve[2] than u cant \n",
    "do it b/c there is no way to select even #s where gcd is not == i s.t. sieve[i] == el \n",
    "\n",
    "NO\n",
    "YES\n",
    "NO\n",
    "\n",
    "\"\"\"\n",
    "import io,sys\n",
    "case1 = \"\"\"\n",
    "3\n",
    "5\n",
    "1 2 3 4 5\n",
    "4\n",
    "1 2 3 4\n",
    "3\n",
    "30 42 70\n",
    "\"\"\"\n",
    "sys.stdin = io.StringIO(case1)\n",
    "\n"
   ],
   "outputs": [],
   "metadata": {}
  }
 ],
 "metadata": {
  "orig_nbformat": 4,
  "language_info": {
   "name": "python",
   "version": "3.8.11",
   "mimetype": "text/x-python",
   "codemirror_mode": {
    "name": "ipython",
    "version": 3
   },
   "pygments_lexer": "ipython3",
   "nbconvert_exporter": "python",
   "file_extension": ".py"
  },
  "kernelspec": {
   "name": "python3",
   "display_name": "Python 3.8.11 64-bit ('hc': conda)"
  },
  "interpreter": {
   "hash": "cd9b86aa17ecbcd2a83a2e8f60283f2c0716a067dcd208f369185c0b3d8a6a4b"
  }
 },
 "nbformat": 4,
 "nbformat_minor": 2
}